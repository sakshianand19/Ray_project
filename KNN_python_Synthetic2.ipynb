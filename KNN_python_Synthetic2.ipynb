{
 "cells": [
  {
   "cell_type": "code",
   "execution_count": 6,
   "metadata": {},
   "outputs": [],
   "source": [
    "import numpy as np\n",
    "from sklearn.model_selection import train_test_split\n",
    "from sklearn.neighbors import KNeighborsClassifier\n",
    "from sklearn.metrics import accuracy_score\n",
    "import time\n",
    "import pandas as pd"
   ]
  },
  {
   "cell_type": "code",
   "execution_count": 7,
   "metadata": {},
   "outputs": [],
   "source": [
    "#Loading dataset from CSV\n",
    "def load_dataset_from_csv(file_path):\n",
    "    data = pd.read_csv(file_path)\n",
    "    X = data.iloc[:, :-1].values  # all columns except the last one as features\n",
    "    y = data.iloc[:, -1].values   # the last column as labels\n",
    "    return X, y"
   ]
  },
  {
   "cell_type": "code",
   "execution_count": 8,
   "metadata": {},
   "outputs": [],
   "source": [
    "# Train and time KNN (without Ray)\n",
    "def train_and_time_knn(X_train, y_train, X_test, y_test, n_neighbors=3):\n",
    "    knn = KNeighborsClassifier(n_neighbors=n_neighbors)\n",
    "    \n",
    "    start_time = time.time()\n",
    "    knn.fit(X_train, y_train)  # Train KNN model\n",
    "    y_pred = knn.predict(X_test)  # Predict on test data\n",
    "    end_time = time.time()\n",
    "\n",
    "    accuracy = accuracy_score(y_test, y_pred)\n",
    "    time_taken = end_time - start_time\n",
    "\n",
    "    return accuracy, time_taken"
   ]
  },
  {
   "cell_type": "code",
   "execution_count": 9,
   "metadata": {},
   "outputs": [],
   "source": [
    "#Load dataset from a CSV file\n",
    "X, y = load_dataset_from_csv('classification_dataset1.csv')  \n",
    "X_train, X_test, y_train, y_test = train_test_split(X, y, test_size=0.2, random_state=42)"
   ]
  },
  {
   "cell_type": "code",
   "execution_count": 10,
   "metadata": {},
   "outputs": [
    {
     "name": "stdout",
     "output_type": "stream",
     "text": [
      "KNN (without Ray) -> Accuracy: 82.62%, Time taken: 5.8398 seconds\n"
     ]
    }
   ],
   "source": [
    "# Train and evaluate KNN\n",
    "accuracy, time_taken = train_and_time_knn(X_train, y_train, X_test, y_test)\n",
    "print(f\"KNN (without Ray) -> Accuracy: {accuracy * 100:.2f}%, Time taken: {time_taken:.4f} seconds\")"
   ]
  }
 ],
 "metadata": {
  "kernelspec": {
   "display_name": "base",
   "language": "python",
   "name": "python3"
  },
  "language_info": {
   "codemirror_mode": {
    "name": "ipython",
    "version": 3
   },
   "file_extension": ".py",
   "mimetype": "text/x-python",
   "name": "python",
   "nbconvert_exporter": "python",
   "pygments_lexer": "ipython3",
   "version": "3.10.9"
  }
 },
 "nbformat": 4,
 "nbformat_minor": 2
}
